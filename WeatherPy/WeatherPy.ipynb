{
 "cells": [
  {
   "cell_type": "markdown",
   "metadata": {},
   "source": [
    "# WeatherPy\n",
    "----\n",
    "\n",
    "#### Observations\n",
    "* There does not appear to be an overt relationship between latitude and cloudiness or latitude and wind speed.\n",
    "\n",
    "\n",
    "* While the northen hemisphere appears to have negative correlation with max temperature (F) - meaning that the farther away from the equater, the colder it gets, the southern hemisphere has a positive correlation with max temperature, meaning the opposite. This indicates that the the closer a city is to the equater, the higher the max temperature would likely be.\n",
    "\n",
    "\n",
    "* In the northern hemisphere, wind speeds(mph) have a positive correlation with latitude, meaning that the farther away from the equater and higher the latitude, the greater the wind speeds. Conversely, the southern hemisphere shows a negative correlation between latitude and wind speeds, which means that the lower the latitude and farther away from the equater, the higher the wind speeds."
   ]
  },
  {
   "cell_type": "code",
   "execution_count": 1,
   "metadata": {
    "scrolled": true
   },
   "outputs": [],
   "source": [
    "# Dependencies and Setup\n",
    "import matplotlib.pyplot as plt\n",
    "import pandas as pd\n",
    "import numpy as np\n",
    "import requests\n",
    "import time\n",
    "from scipy.stats import linregress\n",
    "import json\n",
    "\n",
    "# Import API key\n",
    "from weather_api_keys import weather_api_key\n",
    "\n",
    "# Incorporated citipy to determine city based on latitude and longitude\n",
    "from citipy import citipy\n",
    "\n",
    "# Output File (CSV)\n",
    "output_data_file = \"../output_data/cities.csv\"\n",
    "\n",
    "# Range of latitudes and longitudes\n",
    "lat_range = (-90, 90)\n",
    "lng_range = (-180, 180)\n"
   ]
  },
  {
   "cell_type": "markdown",
   "metadata": {},
   "source": [
    "## Generate Cities List"
   ]
  },
  {
   "cell_type": "code",
   "execution_count": 2,
   "metadata": {},
   "outputs": [
    {
     "data": {
      "text/plain": [
       "624"
      ]
     },
     "execution_count": 2,
     "metadata": {},
     "output_type": "execute_result"
    }
   ],
   "source": [
    "# List for holding lat_lngs and cities\n",
    "lat_lngs = []\n",
    "cities = []\n",
    "\n",
    "# Create a set of random lat and lng combinations\n",
    "lats = np.random.uniform(lat_range[0], lat_range[1], size=1500)\n",
    "lngs = np.random.uniform(lng_range[0], lng_range[1], size=1500)\n",
    "lat_lngs = zip(lats, lngs)\n",
    "\n",
    "# Identify nearest city for each lat, lng combination\n",
    "for lat_lng in lat_lngs:\n",
    "    city = citipy.nearest_city(lat_lng[0], lat_lng[1]).city_name\n",
    "    \n",
    "    # If the city is unique, then add it to a our cities list\n",
    "    if city not in cities:\n",
    "        cities.append(city)\n",
    "\n",
    "# Print the city count to confirm sufficient count\n",
    "len(cities)"
   ]
  },
  {
   "cell_type": "markdown",
   "metadata": {},
   "source": [
    "### Perform API Calls\n",
    "* Perform a weather check on each city using a series of successive API calls.\n",
    "* Include a print log of each city as it'sbeing processed (with the city number and city name).\n"
   ]
  },
  {
   "cell_type": "code",
   "execution_count": 33,
   "metadata": {
    "scrolled": true
   },
   "outputs": [
    {
     "name": "stdout",
     "output_type": "stream",
     "text": [
      "-----------------------------\n",
      "Beginning Data Retrieval \n",
      "-----------------------------\n",
      "Processing record 1|nanortalik\n",
      "Processing record 2|padang\n",
      "Processing record 3|carnarvon\n",
      "Processing record 4|vaini\n",
      "Processing record 5|tehachapi\n",
      "Processing record 6|husavik\n",
      "Processing record 7|puerto ayora\n",
      "Processing record 8|east london\n",
      "Processing record 9|nemuro\n",
      "Processing record 10|rio gallegos\n",
      "Processing record 11|daru\n",
      "Processing record 12|povenets\n",
      "Processing record 13|san patricio\n",
      "Processing record 14|stykkisholmur\n",
      "Processing record 15|butaritari\n",
      "Processing record 16|naze\n",
      "Processing record 17|busselton\n",
      "Processing record 18|albany\n",
      "Processing record 19|dunmore town\n",
      "Processing record 20|bintulu\n",
      "Processing record 21|yelniki\n",
      "Processing record 22|jamestown\n",
      "Processing record 23|katsuura\n",
      "Processing record 24|manokwari\n",
      "Processing record 25|broken hill\n",
      "Processing record 26|mar del plata\n",
      "City not found. Skipping...\n",
      "Processing record 27|kenai\n",
      "City not found. Skipping...\n",
      "Processing record 28|rikitea\n",
      "Processing record 29|gumia\n",
      "City not found. Skipping...\n",
      "Processing record 30|calama\n",
      "Processing record 31|atuona\n",
      "City not found. Skipping...\n",
      "Processing record 32|hithadhoo\n",
      "Processing record 33|nikolskoye\n",
      "Processing record 34|ambovombe\n",
      "Processing record 35|ponta do sol\n",
      "Processing record 36|mahebourg\n",
      "Processing record 37|victoria\n",
      "Processing record 38|saint george\n",
      "Processing record 39|ushuaia\n",
      "City not found. Skipping...\n",
      "Processing record 40|berlevag\n",
      "Processing record 41|faya\n",
      "Processing record 42|hilo\n",
      "Processing record 43|talcahuano\n",
      "Processing record 44|mataura\n",
      "Processing record 45|tutoia\n",
      "Processing record 46|namatanai\n",
      "Processing record 47|bluff\n",
      "Processing record 48|beringovskiy\n",
      "Processing record 49|yellowknife\n",
      "City not found. Skipping...\n",
      "Processing record 50|pundaguitan\n",
      "Processing record 51|kodiak\n",
      "Processing record 52|isangel\n",
      "Processing record 53|laguna\n",
      "Processing record 54|luderitz\n",
      "Processing record 55|raton\n",
      "Processing record 56|kapaa\n",
      "Processing record 57|acarau\n",
      "Processing record 58|bastia\n",
      "Processing record 59|san roque\n",
      "Processing record 60|punta arenas\n",
      "Processing record 61|huicungo\n",
      "Processing record 62|kaitangata\n",
      "Processing record 63|avarua\n",
      "Processing record 64|khetri\n",
      "Processing record 65|barrow\n",
      "Processing record 66|tasiilaq\n",
      "Processing record 67|cape town\n",
      "Processing record 68|ust-kuyga\n",
      "Processing record 69|villazon\n",
      "Processing record 70|foca\n",
      "City not found. Skipping...\n",
      "Processing record 71|iqaluit\n",
      "Processing record 72|thompson\n",
      "Processing record 73|kieta\n",
      "Processing record 74|omsukchan\n",
      "City not found. Skipping...\n",
      "Processing record 75|leh\n",
      "Processing record 76|sisimiut\n",
      "City not found. Skipping...\n",
      "Processing record 77|charlestown\n",
      "Processing record 78|vila velha\n",
      "Processing record 79|kiunga\n",
      "Processing record 80|hermanus\n",
      "Processing record 81|bredasdorp\n",
      "Processing record 82|ozerne\n",
      "Processing record 83|port alfred\n",
      "Processing record 84|port lincoln\n",
      "Processing record 85|linjiang\n",
      "Processing record 86|capao da canoa\n",
      "Processing record 87|tuatapere\n",
      "Processing record 88|lorengau\n",
      "City not found. Skipping...\n",
      "Processing record 89|kyshtovka\n",
      "Processing record 90|dikson\n",
      "Processing record 91|arlit\n",
      "Processing record 92|hirara\n",
      "Processing record 93|sao filipe\n",
      "Processing record 94|adrar\n",
      "Processing record 95|severo-kurilsk\n",
      "Processing record 96|port elizabeth\n",
      "Processing record 97|brattvag\n",
      "Processing record 98|moerai\n",
      "Processing record 99|yanam\n",
      "Processing record 100|ugoofaaru\n",
      "Processing record 101|miles city\n",
      "City not found. Skipping...\n",
      "Processing record 102|gambela\n",
      "Processing record 103|kiama\n",
      "Processing record 104|huilong\n",
      "Processing record 105|sept-iles\n",
      "Processing record 106|chuy\n",
      "Processing record 107|hobart\n",
      "Processing record 108|mahenge\n",
      "Processing record 109|maceio\n",
      "Processing record 110|bonavista\n",
      "City not found. Skipping...\n",
      "Processing record 111|faanui\n",
      "Processing record 112|kailua\n",
      "Processing record 113|zhezkazgan\n",
      "Processing record 114|camacha\n",
      "City not found. Skipping...\n",
      "Processing record 115|ribeira grande\n",
      "Processing record 116|sidi ali\n",
      "Processing record 117|westport\n",
      "Processing record 118|cayenne\n",
      "Processing record 119|tuktoyaktuk\n",
      "Processing record 120|acaponeta\n",
      "Processing record 121|amapa\n",
      "Processing record 122|sioux lookout\n",
      "Processing record 123|karratha\n",
      "Processing record 124|guatire\n",
      "Processing record 125|provideniya\n",
      "Processing record 126|clyde river\n",
      "Processing record 127|paka\n",
      "Processing record 128|rabo de peixe\n",
      "Processing record 129|georgetown\n",
      "Processing record 130|algiers\n",
      "Processing record 131|castro\n",
      "Processing record 132|manicore\n",
      "Processing record 133|saint-philippe\n",
      "Processing record 134|arraial do cabo\n",
      "Processing record 135|saskylakh\n",
      "Processing record 136|talavera de la reina\n",
      "Processing record 137|qaanaaq\n",
      "Processing record 138|yar-sale\n",
      "Processing record 139|port-cartier\n",
      "Processing record 140|tigil\n",
      "Processing record 141|san jose\n",
      "City not found. Skipping...\n",
      "Processing record 142|talnakh\n",
      "Processing record 143|santa maria da vitoria\n",
      "City not found. Skipping...\n",
      "Processing record 144|ventspils\n",
      "Processing record 145|hamilton\n",
      "Processing record 146|inta\n",
      "Processing record 147|upernavik\n",
      "Processing record 148|dingle\n",
      "Processing record 149|khatanga\n",
      "Processing record 150|maragogi\n",
      "Processing record 151|koulikoro\n",
      "City not found. Skipping...\n",
      "Processing record 152|teya\n",
      "Processing record 153|havelock\n",
      "Processing record 154|pangnirtung\n",
      "Processing record 155|ulvik\n",
      "Processing record 156|bennettsville\n",
      "Processing record 157|haimen\n",
      "Processing record 158|lagoa\n",
      "Processing record 159|susangerd\n",
      "Processing record 160|northam\n",
      "Processing record 161|iquitos\n",
      "Processing record 162|torbay\n",
      "Processing record 163|constitucion\n",
      "Processing record 164|quatre cocos\n",
      "Processing record 165|xai-xai\n",
      "Processing record 166|esperance\n",
      "Processing record 167|bambous virieux\n",
      "Processing record 168|lebu\n",
      "Processing record 169|yulara\n",
      "Processing record 170|ahipara\n",
      "Processing record 171|pangody\n",
      "Processing record 172|sabha\n",
      "City not found. Skipping...\n",
      "Processing record 173|klaksvik\n",
      "Processing record 174|san angelo\n",
      "Processing record 175|olinda\n",
      "Processing record 176|guerrero negro\n",
      "Processing record 177|korhogo\n",
      "Processing record 178|meiktila\n",
      "Processing record 179|new norfolk\n",
      "Processing record 180|cockburn town\n",
      "Processing record 181|ilulissat\n",
      "Processing record 182|kununurra\n",
      "Processing record 183|okhotsk\n",
      "City not found. Skipping...\n",
      "Processing record 184|mao\n",
      "Processing record 185|college\n",
      "Processing record 186|bengkulu\n",
      "Processing record 187|loukhi\n",
      "City not found. Skipping...\n",
      "Processing record 188|norman wells\n",
      "Processing record 189|visby\n",
      "Processing record 190|ahuimanu\n",
      "Processing record 191|kavaratti\n",
      "Processing record 192|tungor\n",
      "Processing record 193|tyazhinskiy\n",
      "Processing record 194|kalmunai\n",
      "Processing record 195|minab\n",
      "Processing record 196|lavumisa\n",
      "Processing record 197|kilindoni\n",
      "Processing record 198|ngunguru\n",
      "Processing record 199|udachnyy\n",
      "Processing record 200|virtsu\n",
      "Processing record 201|skelleftea\n",
      "Processing record 202|loreto\n",
      "Processing record 203|prince rupert\n",
      "Processing record 204|beloha\n",
      "Processing record 205|lavrentiya\n",
      "City not found. Skipping...\n",
      "Processing record 206|jinxiang\n",
      "Processing record 207|nuuk\n",
      "Processing record 208|kenner\n",
      "Processing record 209|concepcion del uruguay\n",
      "Processing record 210|bathsheba\n",
      "Processing record 211|sarai\n",
      "Processing record 212|kwinana\n",
      "Processing record 213|mount pleasant\n",
      "Processing record 214|cabo san lucas\n",
      "Processing record 215|naryan-mar\n",
      "Processing record 216|mount isa\n",
      "Processing record 217|krasnoselkup\n",
      "Processing record 218|ixtapa\n",
      "Processing record 219|bilibino\n",
      "Processing record 220|kavieng\n",
      "Processing record 221|sangar\n",
      "Processing record 222|dingli\n",
      "Processing record 223|chapais\n",
      "Processing record 224|san carlos\n",
      "Processing record 225|codrington\n",
      "Processing record 226|qaqortoq\n",
      "Processing record 227|longyearbyen\n",
      "Processing record 228|souillac\n",
      "Processing record 229|ingham\n",
      "Processing record 230|taltal\n",
      "Processing record 231|muros\n",
      "Processing record 232|robertsport\n",
      "Processing record 233|landshut\n",
      "Processing record 234|hofn\n",
      "Processing record 235|leningradskiy\n",
      "Processing record 236|ruston\n",
      "Processing record 237|saint-georges\n",
      "Processing record 238|nicolas bravo\n",
      "Processing record 239|cururupu\n",
      "Processing record 240|am timan\n",
      "Processing record 241|zhigansk\n",
      "Processing record 242|russell\n",
      "Processing record 243|los llanos de aridane\n",
      "City not found. Skipping...\n"
     ]
    },
    {
     "name": "stdout",
     "output_type": "stream",
     "text": [
      "Processing record 244|gat\n",
      "Processing record 245|kruisfontein\n",
      "Processing record 246|lucapa\n",
      "Processing record 247|sitio novo do tocantins\n",
      "Processing record 248|pomerode\n",
      "Processing record 249|bubaque\n",
      "Processing record 250|bom jesus\n",
      "Processing record 251|urzhum\n",
      "Processing record 252|kollegal\n",
      "Processing record 253|samarai\n",
      "Processing record 254|cidreira\n",
      "Processing record 255|caravelas\n",
      "City not found. Skipping...\n",
      "Processing record 256|vila franca do campo\n",
      "Processing record 257|narimanov\n",
      "Processing record 258|saint-francois\n",
      "Processing record 259|narsaq\n",
      "Processing record 260|santa maria\n",
      "Processing record 261|mandalgovi\n",
      "Processing record 262|bocas del toro\n",
      "Processing record 263|najran\n",
      "Processing record 264|yashkul\n",
      "Processing record 265|komsomolskiy\n",
      "Processing record 266|pevek\n",
      "Processing record 267|sainte-anne-des-monts\n",
      "Processing record 268|yuancheng\n",
      "Processing record 269|bethel\n",
      "Processing record 270|sao joao da barra\n",
      "Processing record 271|pisco\n",
      "City not found. Skipping...\n",
      "Processing record 272|jaunpur\n",
      "Processing record 273|svejbaek\n",
      "City not found. Skipping...\n",
      "City not found. Skipping...\n",
      "Processing record 274|ano kastritsion\n",
      "City not found. Skipping...\n",
      "Processing record 275|trairi\n",
      "Processing record 276|kalilangan\n",
      "Processing record 277|road town\n",
      "Processing record 278|nisia floresta\n",
      "Processing record 279|hasaki\n",
      "Processing record 280|veinticinco de mayo\n",
      "Processing record 281|klamath falls\n",
      "Processing record 282|porto novo\n",
      "Processing record 283|kumo\n",
      "Processing record 284|fare\n",
      "Processing record 285|nyeri\n",
      "Processing record 286|kikwit\n",
      "Processing record 287|kahului\n",
      "City not found. Skipping...\n",
      "Processing record 288|lancaster\n",
      "Processing record 289|miri\n",
      "Processing record 290|port macquarie\n",
      "Processing record 291|marzuq\n",
      "Processing record 292|kaili\n",
      "Processing record 293|vicksburg\n",
      "Processing record 294|palu\n",
      "Processing record 295|lodwar\n",
      "Processing record 296|corinto\n",
      "Processing record 297|palmer\n",
      "Processing record 298|nekrasovskoye\n",
      "Processing record 299|bardiyah\n",
      "Processing record 300|bemidji\n",
      "Processing record 301|vostok\n",
      "Processing record 302|florianopolis\n",
      "Processing record 303|yaan\n",
      "Processing record 304|chiredzi\n",
      "Processing record 305|teacapan\n",
      "Processing record 306|igarka\n",
      "Processing record 307|yenagoa\n",
      "City not found. Skipping...\n",
      "Processing record 308|tripoli\n",
      "Processing record 309|saint-joseph\n",
      "Processing record 310|vardo\n",
      "Processing record 311|bajil\n",
      "Processing record 312|tupelo\n",
      "Processing record 313|lukovetskiy\n",
      "Processing record 314|charters towers\n",
      "Processing record 315|awjilah\n",
      "Processing record 316|tefe\n",
      "Processing record 317|virginia beach\n",
      "Processing record 318|puerto del rosario\n",
      "Processing record 319|usinsk\n",
      "Processing record 320|ambilobe\n",
      "Processing record 321|kirkcudbright\n",
      "Processing record 322|tsabong\n",
      "Processing record 323|aklavik\n",
      "Processing record 324|kostomuksha\n",
      "Processing record 325|mimongo\n",
      "Processing record 326|riosucio\n",
      "Processing record 327|port hardy\n",
      "Processing record 328|tarko-sale\n",
      "Processing record 329|dolgoye\n",
      "Processing record 330|spirit river\n",
      "Processing record 331|srednekolymsk\n",
      "Processing record 332|esmeraldas\n",
      "Processing record 333|salalah\n",
      "City not found. Skipping...\n",
      "Processing record 334|litovko\n",
      "Processing record 335|alekseyevsk\n",
      "Processing record 336|fort-shevchenko\n",
      "Processing record 337|balkanabat\n",
      "Processing record 338|qasigiannguit\n",
      "Processing record 339|tilichiki\n",
      "Processing record 340|doha\n",
      "Processing record 341|aguimes\n",
      "City not found. Skipping...\n",
      "Processing record 342|saint marys\n",
      "Processing record 343|aanekoski\n",
      "Processing record 344|eenhana\n",
      "Processing record 345|buraydah\n",
      "Processing record 346|portland\n",
      "Processing record 347|kijabe\n",
      "Processing record 348|moron\n",
      "Processing record 349|verkhniye tatyshly\n",
      "Processing record 350|gisborne\n",
      "City not found. Skipping...\n",
      "Processing record 351|keti bandar\n",
      "Processing record 352|ulukulevo\n",
      "Processing record 353|shelburne\n",
      "Processing record 354|aljezur\n",
      "Processing record 355|loudeac\n",
      "Processing record 356|ushtobe\n",
      "Processing record 357|shintomi\n",
      "Processing record 358|corrales\n",
      "Processing record 359|tiksi\n",
      "Processing record 360|manoel urbano\n",
      "City not found. Skipping...\n",
      "City not found. Skipping...\n",
      "Processing record 361|hellin\n",
      "Processing record 362|ostrovnoy\n",
      "City not found. Skipping...\n",
      "Processing record 363|gizo\n",
      "Processing record 364|samfya\n",
      "Processing record 365|gao\n",
      "Processing record 366|port hedland\n",
      "Processing record 367|solnechnyy\n",
      "Processing record 368|den helder\n",
      "Processing record 369|gualaquiza\n",
      "Processing record 370|sitka\n",
      "Processing record 371|sao felix do xingu\n",
      "Processing record 372|ferme-neuve\n",
      "Processing record 373|aswan\n",
      "Processing record 374|teguldet\n",
      "Processing record 375|hobyo\n",
      "Processing record 376|genhe\n",
      "City not found. Skipping...\n",
      "Processing record 377|henderson\n",
      "Processing record 378|quelimane\n",
      "Processing record 379|jinchang\n",
      "Processing record 380|caraquet\n",
      "Processing record 381|rocha\n",
      "Processing record 382|nongan\n",
      "City not found. Skipping...\n",
      "Processing record 383|terny\n",
      "Processing record 384|matay\n",
      "Processing record 385|okha\n",
      "Processing record 386|thunder bay\n",
      "Processing record 387|groa\n",
      "City not found. Skipping...\n",
      "Processing record 388|mezen\n",
      "City not found. Skipping...\n",
      "City not found. Skipping...\n",
      "Processing record 389|marsh harbour\n",
      "City not found. Skipping...\n",
      "Processing record 390|nicoya\n",
      "Processing record 391|two rivers\n",
      "Processing record 392|sergeyevka\n",
      "Processing record 393|visnes\n",
      "Processing record 394|pacific grove\n",
      "Processing record 395|lai\n",
      "Processing record 396|sokolo\n",
      "Processing record 397|geraldton\n",
      "Processing record 398|chum phae\n",
      "Processing record 399|puerto cabezas\n",
      "Processing record 400|oistins\n",
      "Processing record 401|boa vista\n",
      "Processing record 402|cap malheureux\n",
      "Processing record 403|carbonia\n",
      "Processing record 404|kolobrzeg\n",
      "Processing record 405|severobaykalsk\n",
      "Processing record 406|iquique\n",
      "Processing record 407|paita\n",
      "Processing record 408|haines junction\n",
      "Processing record 409|san jeronimo\n",
      "Processing record 410|hanna\n",
      "Processing record 411|tura\n",
      "Processing record 412|altar\n",
      "Processing record 413|celendin\n",
      "Processing record 414|hervey bay\n",
      "Processing record 415|siilinjarvi\n",
      "Processing record 416|sabang\n",
      "Processing record 417|banda aceh\n",
      "Processing record 418|fortuna\n",
      "Processing record 419|les cayes\n",
      "Processing record 420|asau\n",
      "Processing record 421|vila\n",
      "Processing record 422|port blair\n",
      "Processing record 423|deputatskiy\n",
      "Processing record 424|saldanha\n",
      "Processing record 425|sorland\n",
      "Processing record 426|loandjili\n",
      "Processing record 427|kaliganj\n",
      "Processing record 428|biak\n",
      "Processing record 429|gazanjyk\n",
      "City not found. Skipping...\n",
      "Processing record 430|skibbereen\n",
      "Processing record 431|tarauaca\n",
      "Processing record 432|fevik\n",
      "Processing record 433|isla vista\n",
      "City not found. Skipping...\n",
      "Processing record 434|puerto leguizamo\n",
      "Processing record 435|grindavik\n",
      "Processing record 436|nedjo\n",
      "Processing record 437|holoby\n",
      "Processing record 438|bentiu\n",
      "Processing record 439|worland\n",
      "Processing record 440|hwange\n",
      "Processing record 441|yangambi\n",
      "Processing record 442|bandar-e anzali\n",
      "Processing record 443|stepantsevo\n",
      "Processing record 444|harper\n",
      "Processing record 445|atasu\n",
      "City not found. Skipping...\n",
      "Processing record 446|nelson bay\n",
      "Processing record 447|margate\n",
      "City not found. Skipping...\n",
      "Processing record 448|sao jose da coroa grande\n",
      "Processing record 449|inirida\n",
      "Processing record 450|chokurdakh\n",
      "Processing record 451|lompoc\n",
      "Processing record 452|palmares do sul\n",
      "Processing record 453|port augusta\n",
      "Processing record 454|nouadhibou\n",
      "Processing record 455|seddon\n",
      "Processing record 456|the valley\n",
      "City not found. Skipping...\n",
      "Processing record 457|soderhamn\n",
      "Processing record 458|geilo\n",
      "Processing record 459|san andres\n",
      "City not found. Skipping...\n",
      "Processing record 460|kamenka\n",
      "Processing record 461|elizabeth city\n",
      "Processing record 462|cherskiy\n",
      "Processing record 463|mendota\n",
      "Processing record 464|mossendjo\n",
      "Processing record 465|ketchikan\n",
      "Processing record 466|miraflores\n",
      "Processing record 467|nyurba\n",
      "Processing record 468|sibolga\n",
      "Processing record 469|mawlaik\n",
      "Processing record 470|shrewsbury\n",
      "Processing record 471|koshurnikovo\n",
      "Processing record 472|batemans bay\n",
      "Processing record 473|chinhoyi\n",
      "Processing record 474|yerbogachen\n",
      "Processing record 475|san miguel el alto\n",
      "Processing record 476|makinsk\n",
      "Processing record 477|price\n",
      "Processing record 478|sayyan\n",
      "Processing record 479|peace river\n",
      "Processing record 480|llata\n"
     ]
    },
    {
     "name": "stdout",
     "output_type": "stream",
     "text": [
      "Processing record 481|minas de barroteran\n",
      "Processing record 482|vyazma\n",
      "City not found. Skipping...\n",
      "Processing record 483|jawhar\n",
      "Processing record 484|bandarbeyla\n",
      "Processing record 485|khani\n",
      "Processing record 486|kisangani\n",
      "Processing record 487|port-gentil\n",
      "Processing record 488|alyangula\n",
      "City not found. Skipping...\n",
      "Processing record 489|nkowakowa\n",
      "Processing record 490|taseyevo\n",
      "Processing record 491|big spring\n",
      "Processing record 492|marystown\n",
      "Processing record 493|phangnga\n",
      "Processing record 494|ilo\n",
      "Processing record 495|whitstable\n",
      "Processing record 496|meulaboh\n",
      "Processing record 497|batagay-alyta\n",
      "Processing record 498|sorong\n",
      "City not found. Skipping...\n",
      "Processing record 499|ballina\n",
      "City not found. Skipping...\n",
      "Processing record 500|katherine\n",
      "Processing record 501|mangan\n",
      "Processing record 502|moose factory\n",
      "Processing record 503|rio brilhante\n",
      "Processing record 504|skjervoy\n",
      "Processing record 505|itaituba\n",
      "Processing record 506|tonantins\n",
      "Processing record 507|rio branco\n",
      "Processing record 508|tonota\n",
      "Processing record 509|roma\n",
      "Processing record 510|swellendam\n",
      "Processing record 511|capalayan\n",
      "Processing record 512|xam nua\n",
      "Processing record 513|ottawa\n",
      "Processing record 514|kaifeng\n",
      "Processing record 515|juybar\n",
      "Processing record 516|santiago de cao\n",
      "City not found. Skipping...\n",
      "Processing record 517|bamnet narong\n",
      "Processing record 518|brownsville\n",
      "Processing record 519|waipawa\n",
      "Processing record 520|raga\n",
      "Processing record 521|acurenam\n",
      "Processing record 522|port keats\n",
      "City not found. Skipping...\n",
      "Processing record 523|namtsy\n",
      "Processing record 524|buta\n",
      "Processing record 525|aykhal\n",
      "Processing record 526|opuwo\n",
      "Processing record 527|waw\n",
      "Processing record 528|ancud\n",
      "Processing record 529|urucara\n",
      "City not found. Skipping...\n",
      "Processing record 530|emerald\n",
      "Processing record 531|fort nelson\n",
      "Processing record 532|niksic\n",
      "Processing record 533|ilhabela\n",
      "Processing record 534|egvekinot\n",
      "Processing record 535|anadyr\n",
      "Processing record 536|samana\n",
      "Processing record 537|wakkanai\n",
      "Processing record 538|tabuk\n",
      "Processing record 539|san quintin\n",
      "City not found. Skipping...\n",
      "Processing record 540|kizlyar\n",
      "Processing record 541|worth\n",
      "Processing record 542|baghdad\n",
      "Processing record 543|saint-pierre\n",
      "City not found. Skipping...\n",
      "Processing record 544|inuvik\n",
      "Processing record 545|novoagansk\n",
      "Processing record 546|wao\n",
      "Processing record 547|termiz\n",
      "Processing record 548|kaya\n",
      "Processing record 549|mangrol\n",
      "Processing record 550|shimoda\n",
      "Processing record 551|mogadishu\n",
      "Processing record 552|great yarmouth\n",
      "Processing record 553|vaitape\n",
      "Processing record 554|chuncheng\n",
      "Processing record 555|castrillon\n",
      "Processing record 556|iturama\n",
      "Processing record 557|banff\n",
      "Processing record 558|humaita\n",
      "Processing record 559|barabash\n",
      "Processing record 560|airai\n",
      "Processing record 561|koslan\n",
      "Processing record 562|ossora\n",
      "Processing record 563|taga\n",
      "Processing record 564|dunedin\n",
      "City not found. Skipping...\n",
      "Processing record 565|penzance\n",
      "City not found. Skipping...\n",
      "City not found. Skipping...\n",
      "Processing record 566|port shepstone\n",
      "-----------------------------\n",
      "Data Retrieval Complete\n",
      "-----------------------------\n"
     ]
    }
   ],
   "source": [
    "# Save base url\n",
    "base_url = \"http://api.openweathermap.org/data/2.5/weather?units=imperial&appid=\" + weather_api_key\n",
    "\n",
    "# Set lists for counter\n",
    "cities_list = []\n",
    "cloudiness = []\n",
    "country = []\n",
    "date = []\n",
    "humidity = []\n",
    "lat = []\n",
    "lng = []\n",
    "max_temp = []\n",
    "wind_speed = []\n",
    "\n",
    "print(\"-----------------------------\")\n",
    "print(\"Beginning Data Retrieval \")\n",
    "print(\"-----------------------------\")\n",
    "\n",
    "# Set counter andd loop through each character\n",
    "i = 1\n",
    "for city in cities:\n",
    "    # Sleep for 1 second so we don't overwhelm the API limit of 60 calls/min\n",
    "    time.sleep(1)\n",
    "    \n",
    "    # Create search query, make request and store in json\n",
    "    query_url = base_url +\"&q=\" + city.replace(' ', \"%20\")\n",
    "    response = requests.get(query_url)\n",
    "    response_json = response.json()\n",
    "    \n",
    "    # Grab data for lists\n",
    "    try:\n",
    "        cloudiness.append(response_json[\"clouds\"][\"all\"])\n",
    "        country.append(response_json[\"sys\"][\"country\"])\n",
    "        date.append(response_json[\"dt\"])\n",
    "        humidity.append(response_json[\"main\"][\"humidity\"])\n",
    "        lat.append(response_json[\"coord\"][\"lat\"])\n",
    "        lng.append(response_json[\"coord\"][\"lon\"])\n",
    "        max_temp.append(response_json[\"main\"][\"temp_max\"])\n",
    "        wind_speed.append(response_json[\"wind\"][\"speed\"])\n",
    "        cities_list.append(response_json[\"name\"])\n",
    "        print (f\"Processing record {i}|{city}\")\n",
    "        i+=1   \n",
    "    \n",
    "    # Handle exceptions for a character that is not available in the Star Wars API\n",
    "    except:\n",
    "        # Append null values\n",
    "        print(\"City not found. Skipping...\")\n",
    "        pass\n",
    "\n",
    "print(\"-----------------------------\")\n",
    "print(\"Data Retrieval Complete\")\n",
    "print(\"-----------------------------\")"
   ]
  },
  {
   "cell_type": "markdown",
   "metadata": {},
   "source": [
    "### Convert Raw Data to DataFrame\n",
    "* Export the city data into a .csv.\n",
    "* Display the DataFrame"
   ]
  },
  {
   "cell_type": "code",
   "execution_count": 37,
   "metadata": {},
   "outputs": [
    {
     "data": {
      "text/html": [
       "<div>\n",
       "<style scoped>\n",
       "    .dataframe tbody tr th:only-of-type {\n",
       "        vertical-align: middle;\n",
       "    }\n",
       "\n",
       "    .dataframe tbody tr th {\n",
       "        vertical-align: top;\n",
       "    }\n",
       "\n",
       "    .dataframe thead th {\n",
       "        text-align: right;\n",
       "    }\n",
       "</style>\n",
       "<table border=\"1\" class=\"dataframe\">\n",
       "  <thead>\n",
       "    <tr style=\"text-align: right;\">\n",
       "      <th></th>\n",
       "      <th>City</th>\n",
       "      <th>Cloudiness</th>\n",
       "      <th>Country</th>\n",
       "      <th>Date</th>\n",
       "      <th>Humidity</th>\n",
       "      <th>Lat</th>\n",
       "      <th>Lng</th>\n",
       "      <th>Max Temp</th>\n",
       "      <th>Wind Speed</th>\n",
       "    </tr>\n",
       "  </thead>\n",
       "  <tbody>\n",
       "    <tr>\n",
       "      <th>0</th>\n",
       "      <td>Nanortalik</td>\n",
       "      <td>99</td>\n",
       "      <td>GL</td>\n",
       "      <td>1609795197</td>\n",
       "      <td>96</td>\n",
       "      <td>60.14</td>\n",
       "      <td>-45.24</td>\n",
       "      <td>27.12</td>\n",
       "      <td>8.41</td>\n",
       "    </tr>\n",
       "    <tr>\n",
       "      <th>1</th>\n",
       "      <td>Padang</td>\n",
       "      <td>90</td>\n",
       "      <td>ID</td>\n",
       "      <td>1609795199</td>\n",
       "      <td>88</td>\n",
       "      <td>-0.95</td>\n",
       "      <td>100.35</td>\n",
       "      <td>73.40</td>\n",
       "      <td>1.12</td>\n",
       "    </tr>\n",
       "    <tr>\n",
       "      <th>2</th>\n",
       "      <td>Carnarvon</td>\n",
       "      <td>75</td>\n",
       "      <td>AU</td>\n",
       "      <td>1609795200</td>\n",
       "      <td>94</td>\n",
       "      <td>-24.87</td>\n",
       "      <td>113.63</td>\n",
       "      <td>71.60</td>\n",
       "      <td>6.93</td>\n",
       "    </tr>\n",
       "    <tr>\n",
       "      <th>3</th>\n",
       "      <td>Vaini</td>\n",
       "      <td>75</td>\n",
       "      <td>TO</td>\n",
       "      <td>1609795203</td>\n",
       "      <td>88</td>\n",
       "      <td>-21.20</td>\n",
       "      <td>-175.20</td>\n",
       "      <td>80.60</td>\n",
       "      <td>9.17</td>\n",
       "    </tr>\n",
       "    <tr>\n",
       "      <th>4</th>\n",
       "      <td>Tehachapi</td>\n",
       "      <td>1</td>\n",
       "      <td>US</td>\n",
       "      <td>1609794962</td>\n",
       "      <td>44</td>\n",
       "      <td>35.13</td>\n",
       "      <td>-118.45</td>\n",
       "      <td>53.60</td>\n",
       "      <td>18.34</td>\n",
       "    </tr>\n",
       "    <tr>\n",
       "      <th>5</th>\n",
       "      <td>Husavik</td>\n",
       "      <td>20</td>\n",
       "      <td>IS</td>\n",
       "      <td>1609795205</td>\n",
       "      <td>64</td>\n",
       "      <td>66.04</td>\n",
       "      <td>-17.34</td>\n",
       "      <td>39.20</td>\n",
       "      <td>12.75</td>\n",
       "    </tr>\n",
       "    <tr>\n",
       "      <th>6</th>\n",
       "      <td>Puerto Ayora</td>\n",
       "      <td>20</td>\n",
       "      <td>EC</td>\n",
       "      <td>1609795207</td>\n",
       "      <td>65</td>\n",
       "      <td>-0.74</td>\n",
       "      <td>-90.35</td>\n",
       "      <td>80.60</td>\n",
       "      <td>8.05</td>\n",
       "    </tr>\n",
       "    <tr>\n",
       "      <th>7</th>\n",
       "      <td>East London</td>\n",
       "      <td>98</td>\n",
       "      <td>ZA</td>\n",
       "      <td>1609795209</td>\n",
       "      <td>72</td>\n",
       "      <td>-33.02</td>\n",
       "      <td>27.91</td>\n",
       "      <td>76.75</td>\n",
       "      <td>7.61</td>\n",
       "    </tr>\n",
       "    <tr>\n",
       "      <th>8</th>\n",
       "      <td>Nemuro</td>\n",
       "      <td>0</td>\n",
       "      <td>JP</td>\n",
       "      <td>1609795210</td>\n",
       "      <td>88</td>\n",
       "      <td>43.32</td>\n",
       "      <td>145.57</td>\n",
       "      <td>19.40</td>\n",
       "      <td>15.17</td>\n",
       "    </tr>\n",
       "    <tr>\n",
       "      <th>9</th>\n",
       "      <td>Río Gallegos</td>\n",
       "      <td>0</td>\n",
       "      <td>AR</td>\n",
       "      <td>1609795211</td>\n",
       "      <td>25</td>\n",
       "      <td>-51.62</td>\n",
       "      <td>-69.22</td>\n",
       "      <td>64.40</td>\n",
       "      <td>17.22</td>\n",
       "    </tr>\n",
       "  </tbody>\n",
       "</table>\n",
       "</div>"
      ],
      "text/plain": [
       "           City  Cloudiness Country        Date  Humidity    Lat     Lng  \\\n",
       "0    Nanortalik          99      GL  1609795197        96  60.14  -45.24   \n",
       "1        Padang          90      ID  1609795199        88  -0.95  100.35   \n",
       "2     Carnarvon          75      AU  1609795200        94 -24.87  113.63   \n",
       "3         Vaini          75      TO  1609795203        88 -21.20 -175.20   \n",
       "4     Tehachapi           1      US  1609794962        44  35.13 -118.45   \n",
       "5       Husavik          20      IS  1609795205        64  66.04  -17.34   \n",
       "6  Puerto Ayora          20      EC  1609795207        65  -0.74  -90.35   \n",
       "7   East London          98      ZA  1609795209        72 -33.02   27.91   \n",
       "8        Nemuro           0      JP  1609795210        88  43.32  145.57   \n",
       "9  Río Gallegos           0      AR  1609795211        25 -51.62  -69.22   \n",
       "\n",
       "   Max Temp  Wind Speed  \n",
       "0     27.12        8.41  \n",
       "1     73.40        1.12  \n",
       "2     71.60        6.93  \n",
       "3     80.60        9.17  \n",
       "4     53.60       18.34  \n",
       "5     39.20       12.75  \n",
       "6     80.60        8.05  \n",
       "7     76.75        7.61  \n",
       "8     19.40       15.17  \n",
       "9     64.40       17.22  "
      ]
     },
     "execution_count": 37,
     "metadata": {},
     "output_type": "execute_result"
    }
   ],
   "source": [
    "# Create a DataFrame\n",
    "city_weather_df = pd.DataFrame({\"City\": cities_list, \n",
    "                        \"Cloudiness\":cloudiness, \n",
    "                        \"Country\":country, \n",
    "                        \"Date\":date, \n",
    "                        \"Humidity\":humidity,\n",
    "                        \"Lat\":lat,\n",
    "                        \"Lng\":lng,\n",
    "                        \"Max Temp\":max_temp,\n",
    "                        \"Wind Speed\":wind_speed})\n",
    "\n",
    "# Display head of DataFrame\n",
    "city_weather_df.head(10)"
   ]
  },
  {
   "cell_type": "code",
   "execution_count": 38,
   "metadata": {},
   "outputs": [
    {
     "data": {
      "text/plain": [
       "City          566\n",
       "Cloudiness    566\n",
       "Country       566\n",
       "Date          566\n",
       "Humidity      566\n",
       "Lat           566\n",
       "Lng           566\n",
       "Max Temp      566\n",
       "Wind Speed    566\n",
       "dtype: int64"
      ]
     },
     "execution_count": 38,
     "metadata": {},
     "output_type": "execute_result"
    }
   ],
   "source": [
    "#Checking count of DataFrame to ensure it is over 500\n",
    "city_weather_df.count()"
   ]
  },
  {
   "cell_type": "code",
   "execution_count": 35,
   "metadata": {},
   "outputs": [],
   "source": [
    "#Save DataFrame to CSV\n",
    "city_weather_df.to_csv('cities.csv')"
   ]
  },
  {
   "cell_type": "markdown",
   "metadata": {},
   "source": [
    "## Inspect the data and remove the cities where the humidity > 100%.\n",
    "----\n",
    "Skip this step if there are no cities that have humidity > 100%. "
   ]
  },
  {
   "cell_type": "code",
   "execution_count": 39,
   "metadata": {},
   "outputs": [
    {
     "data": {
      "text/html": [
       "<div>\n",
       "<style scoped>\n",
       "    .dataframe tbody tr th:only-of-type {\n",
       "        vertical-align: middle;\n",
       "    }\n",
       "\n",
       "    .dataframe tbody tr th {\n",
       "        vertical-align: top;\n",
       "    }\n",
       "\n",
       "    .dataframe thead th {\n",
       "        text-align: right;\n",
       "    }\n",
       "</style>\n",
       "<table border=\"1\" class=\"dataframe\">\n",
       "  <thead>\n",
       "    <tr style=\"text-align: right;\">\n",
       "      <th></th>\n",
       "      <th>Cloudiness</th>\n",
       "      <th>Date</th>\n",
       "      <th>Humidity</th>\n",
       "      <th>Lat</th>\n",
       "      <th>Lng</th>\n",
       "      <th>Max Temp</th>\n",
       "      <th>Wind Speed</th>\n",
       "    </tr>\n",
       "  </thead>\n",
       "  <tbody>\n",
       "    <tr>\n",
       "      <th>count</th>\n",
       "      <td>566.000000</td>\n",
       "      <td>5.660000e+02</td>\n",
       "      <td>566.000000</td>\n",
       "      <td>566.000000</td>\n",
       "      <td>566.000000</td>\n",
       "      <td>566.000000</td>\n",
       "      <td>566.000000</td>\n",
       "    </tr>\n",
       "    <tr>\n",
       "      <th>mean</th>\n",
       "      <td>56.632509</td>\n",
       "      <td>1.609796e+09</td>\n",
       "      <td>74.448763</td>\n",
       "      <td>21.342208</td>\n",
       "      <td>12.388551</td>\n",
       "      <td>49.418905</td>\n",
       "      <td>8.308657</td>\n",
       "    </tr>\n",
       "    <tr>\n",
       "      <th>std</th>\n",
       "      <td>38.593492</td>\n",
       "      <td>2.186021e+02</td>\n",
       "      <td>19.237225</td>\n",
       "      <td>33.383966</td>\n",
       "      <td>89.366472</td>\n",
       "      <td>32.903948</td>\n",
       "      <td>5.880479</td>\n",
       "    </tr>\n",
       "    <tr>\n",
       "      <th>min</th>\n",
       "      <td>0.000000</td>\n",
       "      <td>1.609795e+09</td>\n",
       "      <td>13.000000</td>\n",
       "      <td>-54.800000</td>\n",
       "      <td>-179.170000</td>\n",
       "      <td>-52.600000</td>\n",
       "      <td>0.540000</td>\n",
       "    </tr>\n",
       "    <tr>\n",
       "      <th>25%</th>\n",
       "      <td>20.000000</td>\n",
       "      <td>1.609795e+09</td>\n",
       "      <td>66.000000</td>\n",
       "      <td>-5.737500</td>\n",
       "      <td>-66.527500</td>\n",
       "      <td>30.750000</td>\n",
       "      <td>3.410000</td>\n",
       "    </tr>\n",
       "    <tr>\n",
       "      <th>50%</th>\n",
       "      <td>70.500000</td>\n",
       "      <td>1.609796e+09</td>\n",
       "      <td>79.000000</td>\n",
       "      <td>25.625000</td>\n",
       "      <td>17.500000</td>\n",
       "      <td>60.800000</td>\n",
       "      <td>6.930000</td>\n",
       "    </tr>\n",
       "    <tr>\n",
       "      <th>75%</th>\n",
       "      <td>94.000000</td>\n",
       "      <td>1.609796e+09</td>\n",
       "      <td>88.000000</td>\n",
       "      <td>50.560000</td>\n",
       "      <td>86.390000</td>\n",
       "      <td>76.987500</td>\n",
       "      <td>11.410000</td>\n",
       "    </tr>\n",
       "    <tr>\n",
       "      <th>max</th>\n",
       "      <td>100.000000</td>\n",
       "      <td>1.609796e+09</td>\n",
       "      <td>100.000000</td>\n",
       "      <td>78.220000</td>\n",
       "      <td>179.320000</td>\n",
       "      <td>93.000000</td>\n",
       "      <td>43.620000</td>\n",
       "    </tr>\n",
       "  </tbody>\n",
       "</table>\n",
       "</div>"
      ],
      "text/plain": [
       "       Cloudiness          Date    Humidity         Lat         Lng  \\\n",
       "count  566.000000  5.660000e+02  566.000000  566.000000  566.000000   \n",
       "mean    56.632509  1.609796e+09   74.448763   21.342208   12.388551   \n",
       "std     38.593492  2.186021e+02   19.237225   33.383966   89.366472   \n",
       "min      0.000000  1.609795e+09   13.000000  -54.800000 -179.170000   \n",
       "25%     20.000000  1.609795e+09   66.000000   -5.737500  -66.527500   \n",
       "50%     70.500000  1.609796e+09   79.000000   25.625000   17.500000   \n",
       "75%     94.000000  1.609796e+09   88.000000   50.560000   86.390000   \n",
       "max    100.000000  1.609796e+09  100.000000   78.220000  179.320000   \n",
       "\n",
       "         Max Temp  Wind Speed  \n",
       "count  566.000000  566.000000  \n",
       "mean    49.418905    8.308657  \n",
       "std     32.903948    5.880479  \n",
       "min    -52.600000    0.540000  \n",
       "25%     30.750000    3.410000  \n",
       "50%     60.800000    6.930000  \n",
       "75%     76.987500   11.410000  \n",
       "max     93.000000   43.620000  "
      ]
     },
     "execution_count": 39,
     "metadata": {},
     "output_type": "execute_result"
    }
   ],
   "source": [
    "# Find count of cities with a humidity > 100%\n",
    "city_weather_df.describe()\n",
    "\n",
    "# A quick .describe view of the Data Frame shows that the highest humidity is 100% and nothing above this value."
   ]
  },
  {
   "cell_type": "markdown",
   "metadata": {},
   "source": [
    "## Plotting the Data\n",
    "* Use proper labeling of the plots using plot titles (including date of analysis) and axes labels.\n",
    "* Save the plotted figures as .pngs."
   ]
  },
  {
   "cell_type": "code",
   "execution_count": 81,
   "metadata": {},
   "outputs": [
    {
     "name": "stdout",
     "output_type": "stream",
     "text": [
      "Jan, 04 2021\n"
     ]
    }
   ],
   "source": [
    "# Import datetime library to add time stamp + test\n",
    "import datetime\n",
    "\n",
    "today = datetime.date.today()\n",
    "print(\"{:%b, %d %Y}\".format(today))"
   ]
  },
  {
   "cell_type": "markdown",
   "metadata": {},
   "source": [
    "## Latitude vs. Temperature Plot"
   ]
  },
  {
   "cell_type": "code",
   "execution_count": 129,
   "metadata": {
    "scrolled": true
   },
   "outputs": [
    {
     "data": {
      "image/png": "[encoded data removed]",
      "text/plain": [
       "<Figure size 432x288 with 1 Axes>"
      ]
     },
     "metadata": {
      "needs_background": "light"
     },
     "output_type": "display_data"
    }
   ],
   "source": [
    "#Create Scatter Plot\n",
    "plt.scatter(city_weather_df[\"Lat\"], city_weather_df[\"Max Temp\"], marker = \"o\", facecolor = \"steelblue\", edgecolor = \"black\")\n",
    "plt.xlabel(\"Latitude\")\n",
    "plt.ylabel(\"Max Temperature (F)\")\n",
    "plt.title(\"City Latitude vs. City Temperature ({:%m/%d/%Y})\".format(today)) \n",
    "plt.grid()\n",
    "plt.savefig('latvstemperatureplot.png')"
   ]
  },
  {
   "cell_type": "markdown",
   "metadata": {},
   "source": [
    "## Latitude vs. Humidity Plot"
   ]
  },
  {
   "cell_type": "code",
   "execution_count": 130,
   "metadata": {},
   "outputs": [
    {
     "data": {
      "image/png": "[encoded data removed]",
      "text/plain": [
       "<Figure size 432x288 with 1 Axes>"
      ]
     },
     "metadata": {
      "needs_background": "light"
     },
     "output_type": "display_data"
    }
   ],
   "source": [
    "#Create Scatter Plot\n",
    "plt.scatter(city_weather_df[\"Lat\"], city_weather_df[\"Humidity\"], marker = \"o\", facecolor = \"steelblue\", edgecolor = \"black\")\n",
    "plt.xlabel(\"Latitude\")\n",
    "plt.ylabel(\"Humidity (%)\")\n",
    "plt.title(\"City Latitude vs. Humidity ({:%m/%d/%Y})\".format(today))\n",
    "plt.grid()\n",
    "plt.savefig('latvshumidityplot.png')"
   ]
  },
  {
   "cell_type": "markdown",
   "metadata": {},
   "source": [
    "## Latitude vs. Cloudiness Plot"
   ]
  },
  {
   "cell_type": "code",
   "execution_count": 131,
   "metadata": {},
   "outputs": [
    {
     "data": {
      "image/png": "[encoded data removed]",
      "text/plain": [
       "<Figure size 432x288 with 1 Axes>"
      ]
     },
     "metadata": {
      "needs_background": "light"
     },
     "output_type": "display_data"
    }
   ],
   "source": [
    "#Create Scatter Plot\n",
    "plt.scatter(city_weather_df[\"Lat\"], city_weather_df[\"Cloudiness\"], marker = \"o\", facecolor = \"steelblue\", edgecolor = \"black\")\n",
    "plt.xlabel(\"Latitude\")\n",
    "plt.ylabel(\"Cloudiness (%)\")\n",
    "plt.title(\"City Latitude vs. Cloudiness ({:%m/%d/%Y})\".format(today))\n",
    "plt.grid()\n",
    "plt.savefig('latvscloudinessplot.png')"
   ]
  },
  {
   "cell_type": "markdown",
   "metadata": {},
   "source": [
    "## Latitude vs. Wind Speed Plot"
   ]
  },
  {
   "cell_type": "code",
   "execution_count": 132,
   "metadata": {},
   "outputs": [
    {
     "data": {
      "image/png": "[encoded data removed]",
      "text/plain": [
       "<Figure size 432x288 with 1 Axes>"
      ]
     },
     "metadata": {
      "needs_background": "light"
     },
     "output_type": "display_data"
    }
   ],
   "source": [
    "#Create Scatter Plot\n",
    "plt.scatter(city_weather_df[\"Lat\"], city_weather_df[\"Wind Speed\"], marker = \"o\", facecolor = \"steelblue\", edgecolor = \"black\")\n",
    "plt.xlabel(\"Latitude\")\n",
    "plt.ylabel(\"Wind Speed (mph)\")\n",
    "plt.title(\"City Latitude vs. Wind Speed ({:%m/%d/%Y})\".format(today))\n",
    "plt.grid()\n",
    "plt.savefig('latvswindspeedplot.png')"
   ]
  },
  {
   "cell_type": "markdown",
   "metadata": {},
   "source": [
    "## Linear Regression"
   ]
  },
  {
   "cell_type": "code",
   "execution_count": 84,
   "metadata": {},
   "outputs": [
    {
     "data": {
      "text/html": [
       "<div>\n",
       "<style scoped>\n",
       "    .dataframe tbody tr th:only-of-type {\n",
       "        vertical-align: middle;\n",
       "    }\n",
       "\n",
       "    .dataframe tbody tr th {\n",
       "        vertical-align: top;\n",
       "    }\n",
       "\n",
       "    .dataframe thead th {\n",
       "        text-align: right;\n",
       "    }\n",
       "</style>\n",
       "<table border=\"1\" class=\"dataframe\">\n",
       "  <thead>\n",
       "    <tr style=\"text-align: right;\">\n",
       "      <th></th>\n",
       "      <th>City</th>\n",
       "      <th>Cloudiness</th>\n",
       "      <th>Country</th>\n",
       "      <th>Date</th>\n",
       "      <th>Humidity</th>\n",
       "      <th>Lat</th>\n",
       "      <th>Lng</th>\n",
       "      <th>Max Temp</th>\n",
       "      <th>Wind Speed</th>\n",
       "    </tr>\n",
       "  </thead>\n",
       "  <tbody>\n",
       "    <tr>\n",
       "      <th>0</th>\n",
       "      <td>Nanortalik</td>\n",
       "      <td>99</td>\n",
       "      <td>GL</td>\n",
       "      <td>1609795197</td>\n",
       "      <td>96</td>\n",
       "      <td>60.14</td>\n",
       "      <td>-45.24</td>\n",
       "      <td>27.12</td>\n",
       "      <td>8.41</td>\n",
       "    </tr>\n",
       "    <tr>\n",
       "      <th>4</th>\n",
       "      <td>Tehachapi</td>\n",
       "      <td>1</td>\n",
       "      <td>US</td>\n",
       "      <td>1609794962</td>\n",
       "      <td>44</td>\n",
       "      <td>35.13</td>\n",
       "      <td>-118.45</td>\n",
       "      <td>53.60</td>\n",
       "      <td>18.34</td>\n",
       "    </tr>\n",
       "    <tr>\n",
       "      <th>5</th>\n",
       "      <td>Husavik</td>\n",
       "      <td>20</td>\n",
       "      <td>IS</td>\n",
       "      <td>1609795205</td>\n",
       "      <td>64</td>\n",
       "      <td>66.04</td>\n",
       "      <td>-17.34</td>\n",
       "      <td>39.20</td>\n",
       "      <td>12.75</td>\n",
       "    </tr>\n",
       "    <tr>\n",
       "      <th>8</th>\n",
       "      <td>Nemuro</td>\n",
       "      <td>0</td>\n",
       "      <td>JP</td>\n",
       "      <td>1609795210</td>\n",
       "      <td>88</td>\n",
       "      <td>43.32</td>\n",
       "      <td>145.57</td>\n",
       "      <td>19.40</td>\n",
       "      <td>15.17</td>\n",
       "    </tr>\n",
       "    <tr>\n",
       "      <th>11</th>\n",
       "      <td>Povenets</td>\n",
       "      <td>93</td>\n",
       "      <td>RU</td>\n",
       "      <td>1609795044</td>\n",
       "      <td>96</td>\n",
       "      <td>62.85</td>\n",
       "      <td>34.83</td>\n",
       "      <td>16.09</td>\n",
       "      <td>3.62</td>\n",
       "    </tr>\n",
       "    <tr>\n",
       "      <th>...</th>\n",
       "      <td>...</td>\n",
       "      <td>...</td>\n",
       "      <td>...</td>\n",
       "      <td>...</td>\n",
       "      <td>...</td>\n",
       "      <td>...</td>\n",
       "      <td>...</td>\n",
       "      <td>...</td>\n",
       "      <td>...</td>\n",
       "    </tr>\n",
       "    <tr>\n",
       "      <th>558</th>\n",
       "      <td>Barabash</td>\n",
       "      <td>0</td>\n",
       "      <td>RU</td>\n",
       "      <td>1609795903</td>\n",
       "      <td>75</td>\n",
       "      <td>43.20</td>\n",
       "      <td>131.48</td>\n",
       "      <td>-14.80</td>\n",
       "      <td>4.63</td>\n",
       "    </tr>\n",
       "    <tr>\n",
       "      <th>560</th>\n",
       "      <td>Koslan</td>\n",
       "      <td>50</td>\n",
       "      <td>RU</td>\n",
       "      <td>1609795905</td>\n",
       "      <td>92</td>\n",
       "      <td>63.46</td>\n",
       "      <td>48.90</td>\n",
       "      <td>-2.45</td>\n",
       "      <td>4.14</td>\n",
       "    </tr>\n",
       "    <tr>\n",
       "      <th>561</th>\n",
       "      <td>Ossora</td>\n",
       "      <td>73</td>\n",
       "      <td>RU</td>\n",
       "      <td>1609795906</td>\n",
       "      <td>83</td>\n",
       "      <td>59.24</td>\n",
       "      <td>163.07</td>\n",
       "      <td>-8.48</td>\n",
       "      <td>7.83</td>\n",
       "    </tr>\n",
       "    <tr>\n",
       "      <th>562</th>\n",
       "      <td>Ţaga</td>\n",
       "      <td>90</td>\n",
       "      <td>RO</td>\n",
       "      <td>1609795908</td>\n",
       "      <td>100</td>\n",
       "      <td>46.95</td>\n",
       "      <td>24.05</td>\n",
       "      <td>41.00</td>\n",
       "      <td>4.63</td>\n",
       "    </tr>\n",
       "    <tr>\n",
       "      <th>564</th>\n",
       "      <td>Penzance</td>\n",
       "      <td>78</td>\n",
       "      <td>GB</td>\n",
       "      <td>1609795911</td>\n",
       "      <td>77</td>\n",
       "      <td>50.12</td>\n",
       "      <td>-5.54</td>\n",
       "      <td>39.00</td>\n",
       "      <td>20.80</td>\n",
       "    </tr>\n",
       "  </tbody>\n",
       "</table>\n",
       "<p>392 rows × 9 columns</p>\n",
       "</div>"
      ],
      "text/plain": [
       "           City  Cloudiness Country        Date  Humidity    Lat     Lng  \\\n",
       "0    Nanortalik          99      GL  1609795197        96  60.14  -45.24   \n",
       "4     Tehachapi           1      US  1609794962        44  35.13 -118.45   \n",
       "5       Husavik          20      IS  1609795205        64  66.04  -17.34   \n",
       "8        Nemuro           0      JP  1609795210        88  43.32  145.57   \n",
       "11     Povenets          93      RU  1609795044        96  62.85   34.83   \n",
       "..          ...         ...     ...         ...       ...    ...     ...   \n",
       "558    Barabash           0      RU  1609795903        75  43.20  131.48   \n",
       "560      Koslan          50      RU  1609795905        92  63.46   48.90   \n",
       "561      Ossora          73      RU  1609795906        83  59.24  163.07   \n",
       "562        Ţaga          90      RO  1609795908       100  46.95   24.05   \n",
       "564    Penzance          78      GB  1609795911        77  50.12   -5.54   \n",
       "\n",
       "     Max Temp  Wind Speed  \n",
       "0       27.12        8.41  \n",
       "4       53.60       18.34  \n",
       "5       39.20       12.75  \n",
       "8       19.40       15.17  \n",
       "11      16.09        3.62  \n",
       "..        ...         ...  \n",
       "558    -14.80        4.63  \n",
       "560     -2.45        4.14  \n",
       "561     -8.48        7.83  \n",
       "562     41.00        4.63  \n",
       "564     39.00       20.80  \n",
       "\n",
       "[392 rows x 9 columns]"
      ]
     },
     "execution_count": 84,
     "metadata": {},
     "output_type": "execute_result"
    }
   ],
   "source": [
    "#Create Northern Hemisphere\n",
    "northern_hemisphere = city_weather_df.loc[city_weather_df[\"Lat\"]>0]\n",
    "\n",
    "#Create Southern Hemisphere\n",
    "southern_hemisphere = city_weather_df.loc[city_weather_df[\"Lat\"]<0]"
   ]
  },
  {
   "cell_type": "markdown",
   "metadata": {},
   "source": [
    "####  Northern Hemisphere - Max Temp vs. Latitude Linear Regression"
   ]
  },
  {
   "cell_type": "code",
   "execution_count": 136,
   "metadata": {},
   "outputs": [
    {
     "name": "stdout",
     "output_type": "stream",
     "text": [
      "The r-value is: -0.8522449059452791\n"
     ]
    },
    {
     "data": {
      "image/png": "[encoded data removed]",
      "text/plain": [
       "<Figure size 432x288 with 1 Axes>"
      ]
     },
     "metadata": {
      "needs_background": "light"
     },
     "output_type": "display_data"
    },
    {
     "data": {
      "text/plain": [
       "<Figure size 432x288 with 0 Axes>"
      ]
     },
     "metadata": {},
     "output_type": "display_data"
    }
   ],
   "source": [
    "#Map out linear regression analysis\n",
    "x_values = (northern_hemisphere['Lat'])\n",
    "y_values = (northern_hemisphere['Max Temp'])\n",
    "(slope, intercept, rvalue, pvalue, stderr) = linregress(x_values, y_values)\n",
    "regress_values = x_values * slope + intercept\n",
    "line_eq = \"y = \" + str(round(slope,2)) + \"x + \" + str(round(intercept,2))\n",
    "plt.scatter(x_values,y_values)\n",
    "plt.plot(x_values,regress_values,\"r-\")\n",
    "plt.annotate(line_eq,(8,-20),fontsize=15,color=\"red\")\n",
    "plt.xlabel('Latitude')\n",
    "plt.ylabel('Max Temperature (F)')\n",
    "print(f\"The r-value is: {rvalue}\")\n",
    "plt.show()\n",
    "plt.savefig('northern_latvsmaxtemp_linearregression.png')"
   ]
  },
  {
   "cell_type": "markdown",
   "metadata": {},
   "source": [
    "####  Southern Hemisphere - Max Temp vs. Latitude Linear Regression"
   ]
  },
  {
   "cell_type": "code",
   "execution_count": 135,
   "metadata": {},
   "outputs": [
    {
     "name": "stdout",
     "output_type": "stream",
     "text": [
      "The r-value is: 0.4966870233002831\n"
     ]
    },
    {
     "data": {
      "image/png": "[encoded data removed]",
      "text/plain": [
       "<Figure size 432x288 with 1 Axes>"
      ]
     },
     "metadata": {
      "needs_background": "light"
     },
     "output_type": "display_data"
    },
    {
     "data": {
      "text/plain": [
       "<Figure size 432x288 with 0 Axes>"
      ]
     },
     "metadata": {},
     "output_type": "display_data"
    }
   ],
   "source": [
    "#Map out linear regression analysis\n",
    "x_values = (southern_hemisphere['Lat'])\n",
    "y_values = (southern_hemisphere['Max Temp'])\n",
    "(slope, intercept, rvalue, pvalue, stderr) = linregress(x_values, y_values)\n",
    "regress_values = x_values * slope + intercept\n",
    "line_eq = \"y = \" + str(round(slope,2)) + \"x + \" + str(round(intercept,2))\n",
    "plt.scatter(x_values,y_values)\n",
    "plt.plot(x_values,regress_values,\"r-\")\n",
    "plt.annotate(line_eq,(-55,87),fontsize=15,color=\"red\")\n",
    "plt.xlabel('Latitude')\n",
    "plt.ylabel('Max Temperature (F)')\n",
    "print(f\"The r-value is: {rvalue}\")\n",
    "plt.show()\n",
    "plt.savefig('southern_latvsmaxtemp_linearregression.png')"
   ]
  },
  {
   "cell_type": "markdown",
   "metadata": {},
   "source": [
    "####  Northern Hemisphere - Humidity (%) vs. Latitude Linear Regression"
   ]
  },
  {
   "cell_type": "code",
   "execution_count": 137,
   "metadata": {},
   "outputs": [
    {
     "name": "stdout",
     "output_type": "stream",
     "text": [
      "The r-value is: 0.3795511114549002\n"
     ]
    },
    {
     "data": {
      "image/png": "[encoded data removed]",
      "text/plain": [
       "<Figure size 432x288 with 1 Axes>"
      ]
     },
     "metadata": {
      "needs_background": "light"
     },
     "output_type": "display_data"
    },
    {
     "data": {
      "text/plain": [
       "<Figure size 432x288 with 0 Axes>"
      ]
     },
     "metadata": {},
     "output_type": "display_data"
    }
   ],
   "source": [
    "#Map out linear regression analysis\n",
    "x_values = (northern_hemisphere['Lat'])\n",
    "y_values = (northern_hemisphere['Humidity'])\n",
    "(slope, intercept, rvalue, pvalue, stderr) = linregress(x_values, y_values)\n",
    "regress_values = x_values * slope + intercept\n",
    "line_eq = \"y = \" + str(round(slope,2)) + \"x + \" + str(round(intercept,2))\n",
    "plt.scatter(x_values,y_values)\n",
    "plt.plot(x_values,regress_values,\"r-\")\n",
    "plt.annotate(line_eq,(50,40),fontsize=15,color=\"red\")\n",
    "plt.xlabel('Latitude')\n",
    "plt.ylabel('Humidity (%)')\n",
    "print(f\"The r-value is: {rvalue}\")\n",
    "plt.show()\n",
    "plt.savefig('northern_latvshumidity_linearregression.png')"
   ]
  },
  {
   "cell_type": "markdown",
   "metadata": {},
   "source": [
    "####  Southern Hemisphere - Humidity (%) vs. Latitude Linear Regression"
   ]
  },
  {
   "cell_type": "code",
   "execution_count": 138,
   "metadata": {},
   "outputs": [
    {
     "name": "stdout",
     "output_type": "stream",
     "text": [
      "The r-value is: 0.15022699904665404\n"
     ]
    },
    {
     "data": {
      "image/png": "[encoded data removed]",
      "text/plain": [
       "<Figure size 432x288 with 1 Axes>"
      ]
     },
     "metadata": {
      "needs_background": "light"
     },
     "output_type": "display_data"
    },
    {
     "data": {
      "text/plain": [
       "<Figure size 432x288 with 0 Axes>"
      ]
     },
     "metadata": {},
     "output_type": "display_data"
    }
   ],
   "source": [
    "#Map out linear regression analysis\n",
    "x_values = (southern_hemisphere['Lat'])\n",
    "y_values = (southern_hemisphere['Humidity'])\n",
    "(slope, intercept, rvalue, pvalue, stderr) = linregress(x_values, y_values)\n",
    "regress_values = x_values * slope + intercept\n",
    "line_eq = \"y = \" + str(round(slope,2)) + \"x + \" + str(round(intercept,2))\n",
    "plt.scatter(x_values,y_values)\n",
    "plt.plot(x_values,regress_values,\"r-\")\n",
    "plt.annotate(line_eq,(-55,35),fontsize=15,color=\"red\")\n",
    "plt.xlabel('Latitude')\n",
    "plt.ylabel('Humidity (%)')\n",
    "print(f\"The r-value is: {rvalue}\")\n",
    "plt.show()\n",
    "plt.savefig('southern_latvshumidity_linearregression.png')"
   ]
  },
  {
   "cell_type": "markdown",
   "metadata": {},
   "source": [
    "####  Northern Hemisphere - Cloudiness (%) vs. Latitude Linear Regression"
   ]
  },
  {
   "cell_type": "code",
   "execution_count": 139,
   "metadata": {},
   "outputs": [
    {
     "name": "stdout",
     "output_type": "stream",
     "text": [
      "The r-value is: 0.2627055001766975\n"
     ]
    },
    {
     "data": {
      "image/png": "[encoded data removed]",
      "text/plain": [
       "<Figure size 432x288 with 1 Axes>"
      ]
     },
     "metadata": {
      "needs_background": "light"
     },
     "output_type": "display_data"
    },
    {
     "data": {
      "text/plain": [
       "<Figure size 432x288 with 0 Axes>"
      ]
     },
     "metadata": {},
     "output_type": "display_data"
    }
   ],
   "source": [
    "#Map out linear regression analysis\n",
    "x_values = (northern_hemisphere['Lat'])\n",
    "y_values = (northern_hemisphere['Cloudiness'])\n",
    "(slope, intercept, rvalue, pvalue, stderr) = linregress(x_values, y_values)\n",
    "regress_values = x_values * slope + intercept\n",
    "line_eq = \"y = \" + str(round(slope,2)) + \"x + \" + str(round(intercept,2))\n",
    "plt.scatter(x_values,y_values)\n",
    "plt.plot(x_values,regress_values,\"r-\")\n",
    "plt.annotate(line_eq,(20,25),fontsize=15,color=\"red\")\n",
    "plt.xlabel('Latitude')\n",
    "plt.ylabel('Cloudiness (%)')\n",
    "print(f\"The r-value is: {rvalue}\")\n",
    "plt.show()\n",
    "plt.savefig('northern_latvscloudiness_linearregression.png')"
   ]
  },
  {
   "cell_type": "markdown",
   "metadata": {},
   "source": [
    "####  Southern Hemisphere - Cloudiness (%) vs. Latitude Linear Regression"
   ]
  },
  {
   "cell_type": "code",
   "execution_count": 141,
   "metadata": {},
   "outputs": [
    {
     "name": "stdout",
     "output_type": "stream",
     "text": [
      "The r-value is: 0.2278216864434801\n"
     ]
    },
    {
     "data": {
      "image/png": "[encoded data removed]",
      "text/plain": [
       "<Figure size 432x288 with 1 Axes>"
      ]
     },
     "metadata": {
      "needs_background": "light"
     },
     "output_type": "display_data"
    },
    {
     "data": {
      "text/plain": [
       "<Figure size 432x288 with 0 Axes>"
      ]
     },
     "metadata": {},
     "output_type": "display_data"
    }
   ],
   "source": [
    "#Map out linear regression analysis\n",
    "x_values = (southern_hemisphere['Lat'])\n",
    "y_values = (southern_hemisphere['Cloudiness'])\n",
    "(slope, intercept, rvalue, pvalue, stderr) = linregress(x_values, y_values)\n",
    "regress_values = x_values * slope + intercept\n",
    "line_eq = \"y = \" + str(round(slope,2)) + \"x + \" + str(round(intercept,2))\n",
    "plt.scatter(x_values,y_values)\n",
    "plt.plot(x_values,regress_values,\"r-\")\n",
    "plt.annotate(line_eq,(-55,35),fontsize=15,color=\"red\")\n",
    "plt.xlabel('Latitude')\n",
    "plt.ylabel('Cloudiness (%)')\n",
    "print(f\"The r-value is: {rvalue}\")\n",
    "plt.show()\n",
    "plt.savefig('southern_latvscloudiness_linearregression.png')"
   ]
  },
  {
   "cell_type": "markdown",
   "metadata": {},
   "source": [
    "####  Northern Hemisphere - Wind Speed (mph) vs. Latitude Linear Regression"
   ]
  },
  {
   "cell_type": "code",
   "execution_count": 142,
   "metadata": {},
   "outputs": [
    {
     "name": "stdout",
     "output_type": "stream",
     "text": [
      "The r-value is: 0.12048598805299954\n"
     ]
    },
    {
     "data": {
      "image/png": "[encoded data removed]",
      "text/plain": [
       "<Figure size 432x288 with 1 Axes>"
      ]
     },
     "metadata": {
      "needs_background": "light"
     },
     "output_type": "display_data"
    },
    {
     "data": {
      "text/plain": [
       "<Figure size 432x288 with 0 Axes>"
      ]
     },
     "metadata": {},
     "output_type": "display_data"
    }
   ],
   "source": [
    "#Map out linear regression analysis\n",
    "x_values = (northern_hemisphere['Lat'])\n",
    "y_values = (northern_hemisphere['Wind Speed'])\n",
    "(slope, intercept, rvalue, pvalue, stderr) = linregress(x_values, y_values)\n",
    "regress_values = x_values * slope + intercept\n",
    "line_eq = \"y = \" + str(round(slope,2)) + \"x + \" + str(round(intercept,2))\n",
    "plt.scatter(x_values,y_values)\n",
    "plt.plot(x_values,regress_values,\"r-\")\n",
    "plt.annotate(line_eq,(40,40),fontsize=15,color=\"red\")\n",
    "plt.xlabel('Latitude')\n",
    "plt.ylabel('Wind Speed (mph)')\n",
    "print(f\"The r-value is: {rvalue}\")\n",
    "plt.show()\n",
    "plt.savefig('northern_latvswindspeed_linearregression.png')"
   ]
  },
  {
   "cell_type": "markdown",
   "metadata": {},
   "source": [
    "####  Southern Hemisphere - Wind Speed (mph) vs. Latitude Linear Regression"
   ]
  },
  {
   "cell_type": "code",
   "execution_count": 143,
   "metadata": {},
   "outputs": [
    {
     "name": "stdout",
     "output_type": "stream",
     "text": [
      "The r-value is: -0.24091287451551907\n"
     ]
    },
    {
     "data": {
      "image/png": "[encoded data removed]",
      "text/plain": [
       "<Figure size 432x288 with 1 Axes>"
      ]
     },
     "metadata": {
      "needs_background": "light"
     },
     "output_type": "display_data"
    },
    {
     "data": {
      "text/plain": [
       "<Figure size 432x288 with 0 Axes>"
      ]
     },
     "metadata": {},
     "output_type": "display_data"
    }
   ],
   "source": [
    "#Map out linear regression analysis\n",
    "x_values = (southern_hemisphere['Lat'])\n",
    "y_values = (southern_hemisphere['Wind Speed'])\n",
    "(slope, intercept, rvalue, pvalue, stderr) = linregress(x_values, y_values)\n",
    "regress_values = x_values * slope + intercept\n",
    "line_eq = \"y = \" + str(round(slope,2)) + \"x + \" + str(round(intercept,2))\n",
    "plt.scatter(x_values,y_values)\n",
    "plt.plot(x_values,regress_values,\"r-\")\n",
    "plt.annotate(line_eq,(-22,22),fontsize=15,color=\"red\")\n",
    "plt.xlabel('Latitude')\n",
    "plt.ylabel('Wind Speed (mph)')\n",
    "print(f\"The r-value is: {rvalue}\")\n",
    "plt.show()\n",
    "plt.savefig('southern_latvswindspeed_linearregression.png')"
   ]
  },
  {
   "cell_type": "code",
   "execution_count": null,
   "metadata": {},
   "outputs": [],
   "source": []
  }
 ],
 "metadata": {
  "anaconda-cloud": {},
  "kernel_info": {
   "name": "python3"
  },
  "kernelspec": {
   "display_name": "Python 3",
   "language": "python",
   "name": "python3"
  },
  "language_info": {
   "codemirror_mode": {
    "name": "ipython",
    "version": 3
   },
   "file_extension": ".py",
   "mimetype": "text/x-python",
   "name": "python",
   "nbconvert_exporter": "python",
   "pygments_lexer": "ipython3",
   "version": "3.8.3"
  },
  "latex_envs": {
   "LaTeX_envs_menu_present": true,
   "autoclose": false,
   "autocomplete": true,
   "bibliofile": "biblio.bib",
   "cite_by": "apalike",
   "current_citInitial": 1,
   "eqLabelWithNumbers": true,
   "eqNumInitial": 1,
   "hotkeys": {
    "equation": "Ctrl-E",
    "itemize": "Ctrl-I"
   },
   "labels_anchors": false,
   "latex_user_defs": false,
   "report_style_numbering": false,
   "user_envs_cfg": false
  },
  "nteract": {
   "version": "0.12.3"
  }
 },
 "nbformat": 4,
 "nbformat_minor": 2
}
